{
 "cells": [
  {
   "cell_type": "markdown",
   "id": "385d4270",
   "metadata": {},
   "source": [
    "# Linked list implementation in Python\n"
   ]
  },
  {
   "cell_type": "code",
   "execution_count": 3,
   "id": "30f562a9",
   "metadata": {
    "ExecuteTime": {
     "end_time": "2022-03-19T14:58:18.730940Z",
     "start_time": "2022-03-19T14:58:18.722939Z"
    }
   },
   "outputs": [
    {
     "name": "stdout",
     "output_type": "stream",
     "text": [
      "1 2 3 "
     ]
    }
   ],
   "source": [
    "class node:\n",
    "    def __init__(self, item):\n",
    "        self.item = item\n",
    "        self.next = None\n",
    "        \n",
    "class LinkedList():             # Creating a node\n",
    "    def __init__(self):\n",
    "        self.head = None\n",
    "if __name__ == '__main__':\n",
    "    \n",
    "    linked_list = LinkedList()\n",
    "    \n",
    "    ##assign item values\n",
    "    linked_list.head = Node(1)\n",
    "    second = Node(2)\n",
    "    third = Node(3)\n",
    "    \n",
    "    ##Connect To Node\n",
    "    linked_list.head.next = second\n",
    "    second.next = third\n",
    "    \n",
    "    \n",
    "    # Print the linked list item\n",
    "    while linked_list.head != None:\n",
    "        print(linked_list.head.item, end=\" \")\n",
    "        linked_list.head = linked_list.head.next\n",
    "    \n",
    "    \n"
   ]
  },
  {
   "cell_type": "markdown",
   "id": "d65897a8",
   "metadata": {},
   "source": [
    "# Linked list operations in Python"
   ]
  },
  {
   "cell_type": "code",
   "execution_count": null,
   "id": "f080a5d1",
   "metadata": {
    "ExecuteTime": {
     "end_time": "2022-03-19T15:01:35.594783Z",
     "start_time": "2022-03-19T15:01:35.570789Z"
    }
   },
   "outputs": [],
   "source": [
    "# Create a node\n",
    "class Node:\n",
    "    def __init__(self, data):\n",
    "        self.data = data\n",
    "        self.next = None\n",
    "\n",
    "\n",
    "class LinkedList:\n",
    "\n",
    "    def __init__(self):\n",
    "        self.head = None\n",
    "\n",
    "    # Insert at the beginning\n",
    "    def insertAtBeginning(self, new_data):\n",
    "        new_node = Node(new_data)\n",
    "\n",
    "        new_node.next = self.head\n",
    "        self.head = new_node\n",
    "\n",
    "    # Insert after a node\n",
    "    def insertAfter(self, prev_node, new_data):\n",
    "\n",
    "        if prev_node is None:\n",
    "            print(\"The given previous node must inLinkedList.\")\n",
    "            return\n",
    "\n",
    "        new_node = Node(new_data)\n",
    "        new_node.next = prev_node.next\n",
    "        prev_node.next = new_node\n",
    "\n",
    "    # Insert at the end\n",
    "    def insertAtEnd(self, new_data):\n",
    "        new_node = Node(new_data)\n",
    "\n",
    "        if self.head is None:\n",
    "            self.head = new_node\n",
    "            return\n",
    "\n",
    "        last = self.head\n",
    "        while (last.next):\n",
    "            last = last.next\n",
    "\n",
    "        last.next = new_node\n",
    "\n",
    "    # Deleting a node\n",
    "    def deleteNode(self, position):\n",
    "\n",
    "        if self.head is None:\n",
    "            return\n",
    "\n",
    "        temp = self.head\n",
    "\n",
    "        if position == 0:\n",
    "            self.head = temp.next\n",
    "            temp = None\n",
    "            return\n",
    "\n",
    "        # Find the key to be deleted\n",
    "        for i in range(position - 1):\n",
    "            temp = temp.next\n",
    "            if temp is None:\n",
    "                break\n",
    "\n",
    "        # If the key is not present\n",
    "        if temp is None:\n",
    "            return\n",
    "\n",
    "        if temp.next is None:\n",
    "            return\n",
    "\n",
    "        next = temp.next.next\n",
    "\n",
    "        temp.next = None\n",
    "\n",
    "        temp.next = next\n",
    "\n",
    "    # Search an element\n",
    "    def search(self, key):\n",
    "\n",
    "        current = self.head\n",
    "\n",
    "        while current is not None:\n",
    "            if current.data == key:\n",
    "                return True\n",
    "\n",
    "            current = current.next\n",
    "\n",
    "        return False\n",
    "\n",
    "    # Sort the linked list\n",
    "    def sortLinkedList(self, head):\n",
    "        current = head\n",
    "        index = Node(None)\n",
    "\n",
    "        if head is None:\n",
    "            return\n",
    "        else:\n",
    "            while current is not None:\n",
    "                # index points to the node next to current\n",
    "                index = current.next\n",
    "\n",
    "                while index is not None:\n",
    "                    if current.data > index.data:\n",
    "                        current.data, index.data = index.data, current.data\n",
    "\n",
    "                    index = index.next\n",
    "                current = current.next\n",
    "\n",
    "    # Print the linked list\n",
    "    def printList(self):\n",
    "        temp = self.head\n",
    "        while (temp):\n",
    "            print(str(temp.data) + \" \", end=\"\")\n",
    "            temp = temp.next\n",
    "\n",
    "\n",
    "if __name__ == '__main__':\n",
    "\n",
    "    llist = LinkedList()\n",
    "    llist.insertAtEnd(1)\n",
    "    llist.insertAtBeginning(2)\n",
    "    llist.insertAtBeginning(3)\n",
    "    llist.insertAtEnd(4)\n",
    "    llist.insertAfter(llist.head.next, 5)\n",
    "\n",
    "    print('linked list:')\n",
    "    llist.printList()\n",
    "\n",
    "    print(\"\\nAfter deleting an element:\")\n",
    "    llist.deleteNode(3)\n",
    "    llist.printList()\n",
    "\n",
    "    print()\n",
    "    item_to_find = 3\n",
    "    if llist.search(item_to_find):\n",
    "        print(str(item_to_find) + \" is found\")\n",
    "    else:\n",
    "        print(str(item_to_find) + \" is not found\")\n",
    "\n",
    "    llist.sortLinkedList(llist.head)\n",
    "    print(\"Sorted List: \")\n",
    "    llist.printList()"
   ]
  },
  {
   "cell_type": "markdown",
   "id": "393988cf",
   "metadata": {
    "ExecuteTime": {
     "end_time": "2022-03-19T15:03:40.392959Z",
     "start_time": "2022-03-19T15:03:40.387965Z"
    }
   },
   "source": [
    "# Traversing a Linked List"
   ]
  },
  {
   "cell_type": "code",
   "execution_count": 4,
   "id": "464560d2",
   "metadata": {
    "ExecuteTime": {
     "end_time": "2022-03-20T04:22:20.338214Z",
     "start_time": "2022-03-20T04:22:20.328214Z"
    }
   },
   "outputs": [
    {
     "name": "stdout",
     "output_type": "stream",
     "text": [
      "Mon\n",
      "Tue\n",
      "Wed\n"
     ]
    }
   ],
   "source": [
    "class Node:\n",
    "   def __init__(self, dataval=None):\n",
    "      self.dataval = dataval\n",
    "      self.nextval = None\n",
    "\n",
    "class SLinkedList:\n",
    "   def __init__(self):\n",
    "      self.headval = None\n",
    "\n",
    "   def listprint(self):\n",
    "      printval = self.headval\n",
    "      while printval is not None:\n",
    "         print (printval.dataval)\n",
    "         printval = printval.nextval\n",
    "\n",
    "list = SLinkedList()\n",
    "list.headval = Node(\"Mon\")\n",
    "e2 = Node(\"Tue\")\n",
    "e3 = Node(\"Wed\")\n",
    "\n",
    "# Link first Node to second node\n",
    "list.headval.nextval = e2\n",
    "\n",
    "# Link second Node to third node\n",
    "e2.nextval = e3\n",
    "\n",
    "list.listprint()"
   ]
  },
  {
   "cell_type": "markdown",
   "id": "fe41992f",
   "metadata": {},
   "source": [
    "# Insertion in a Linked List\n",
    "Inserting element in the linked list involves reassigning the pointers from the existing nodes to the newly inserted node. Depending on whether the new data element is getting inserted at the beginning or at the middle or at the end of the linked list, we have the below scenarios.\n",
    "\n",
    "### Inserting at the Beginning\n",
    "This involves pointing the next pointer of the new data node to the current head of the linked list. So the current head of the linked list becomes the second data element and the new node becomes the head of the linked list."
   ]
  },
  {
   "cell_type": "code",
   "execution_count": 3,
   "id": "f8488cef",
   "metadata": {
    "ExecuteTime": {
     "end_time": "2022-03-20T04:22:12.567673Z",
     "start_time": "2022-03-20T04:22:12.556673Z"
    }
   },
   "outputs": [
    {
     "name": "stdout",
     "output_type": "stream",
     "text": [
      "Mon\n",
      "Tue\n",
      "Wed\n"
     ]
    }
   ],
   "source": [
    "class Node:\n",
    "   def __init__(self, dataval=None):\n",
    "      self.dataval = dataval\n",
    "      self.nextval = None\n",
    "\n",
    "class SLinkedList:\n",
    "   def __init__(self):\n",
    "      self.headval = None\n",
    "# Print the linked list\n",
    "   def listprint(self):\n",
    "      printval = self.headval\n",
    "      while printval is not None:\n",
    "         print (printval.dataval)\n",
    "         printval = printval.nextval\n",
    "   def AtBegining(self,newdata):\n",
    "      NewNode = Node(newdata)\n",
    "\n",
    "# Update the new nodes next val to existing node\n",
    "      NewNode.nextval = self.headval\n",
    "  \n",
    "\n",
    "list = SLinkedList()\n",
    "list.headval = Node(\"Mon\")\n",
    "e2 = Node(\"Tue\")\n",
    "e3 = Node(\"Wed\")\n",
    "\n",
    "list.headval.nextval = e2\n",
    "e2.nextval = e3\n",
    "\n",
    "list.AtBegining(\"Sun\")\n",
    "list.listprint()"
   ]
  },
  {
   "cell_type": "markdown",
   "id": "cf150a68",
   "metadata": {},
   "source": [
    "### Inserting at the End"
   ]
  },
  {
   "cell_type": "code",
   "execution_count": 18,
   "id": "8a947190",
   "metadata": {
    "ExecuteTime": {
     "end_time": "2022-03-19T15:15:57.150114Z",
     "start_time": "2022-03-19T15:15:57.140114Z"
    }
   },
   "outputs": [
    {
     "name": "stdout",
     "output_type": "stream",
     "text": [
      "Mon\n",
      "Tue\n",
      "Wed\n",
      "Thu\n"
     ]
    }
   ],
   "source": [
    "class Node:\n",
    "   def __init__(self, dataval=None):\n",
    "      self.dataval = dataval\n",
    "      self.nextval = None\n",
    "class SLinkedList:\n",
    "   def __init__(self):\n",
    "      self.headval = None\n",
    "# Function to add newnode\n",
    "   def AtEnd(self, newdata):\n",
    "      NewNode = Node(newdata)\n",
    "      if self.headval is None:\n",
    "         self.headval = NewNode\n",
    "         return\n",
    "      laste = self.headval\n",
    "      while(laste.nextval):\n",
    "         laste = laste.nextval\n",
    "      laste.nextval=NewNode\n",
    "# Print the linked list\n",
    "   def listprint(self):\n",
    "      printval = self.headval\n",
    "      while printval is not None:\n",
    "         print (printval.dataval)\n",
    "         printval = printval.nextval\n",
    "\n",
    "list = SLinkedList()\n",
    "list.headval = Node(\"Mon\")\n",
    "e2 = Node(\"Tue\")\n",
    "e3 = Node(\"Wed\")\n",
    "\n",
    "list.headval.nextval = e2\n",
    "e2.nextval = e3\n",
    "\n",
    "list.AtEnd(\"Thu\")\n",
    "\n",
    "list.listprint()"
   ]
  },
  {
   "cell_type": "markdown",
   "id": "5aa0a03f",
   "metadata": {
    "ExecuteTime": {
     "end_time": "2022-03-19T15:16:43.796485Z",
     "start_time": "2022-03-19T15:16:43.790491Z"
    }
   },
   "source": [
    "### Inserting data between two Data Nodes"
   ]
  },
  {
   "cell_type": "code",
   "execution_count": 20,
   "id": "db147ef8",
   "metadata": {
    "ExecuteTime": {
     "end_time": "2022-03-19T15:17:07.624162Z",
     "start_time": "2022-03-19T15:17:07.614162Z"
    }
   },
   "outputs": [
    {
     "name": "stdout",
     "output_type": "stream",
     "text": [
      "Mon\n",
      "Tue\n",
      "Fri\n",
      "Thu\n"
     ]
    }
   ],
   "source": [
    "class Node:\n",
    "   def __init__(self, dataval=None):\n",
    "      self.dataval = dataval\n",
    "      self.nextval = None\n",
    "class SLinkedList:\n",
    "   def __init__(self):\n",
    "      self.headval = None\n",
    "\n",
    "# Function to add node\n",
    "   def Inbetween(self,middle_node,newdata):\n",
    "      if middle_node is None:\n",
    "         print(\"The mentioned node is absent\")\n",
    "         return\n",
    "\n",
    "      NewNode = Node(newdata)\n",
    "      NewNode.nextval = middle_node.nextval\n",
    "      middle_node.nextval = NewNode\n",
    "\n",
    "# Print the linked list\n",
    "   def listprint(self):\n",
    "      printval = self.headval\n",
    "      while printval is not None:\n",
    "         print (printval.dataval)\n",
    "         printval = printval.nextval\n",
    "\n",
    "list = SLinkedList()\n",
    "list.headval = Node(\"Mon\")\n",
    "e2 = Node(\"Tue\")\n",
    "e3 = Node(\"Thu\")\n",
    "\n",
    "list.headval.nextval = e2\n",
    "e2.nextval = e3\n",
    "\n",
    "list.Inbetween(list.headval.nextval,\"Fri\")\n",
    "\n",
    "list.listprint()"
   ]
  },
  {
   "cell_type": "markdown",
   "id": "655765f2",
   "metadata": {},
   "source": [
    "### Removing an Item from LinkedList"
   ]
  },
  {
   "cell_type": "code",
   "execution_count": 22,
   "id": "aab87620",
   "metadata": {
    "ExecuteTime": {
     "end_time": "2022-03-19T15:18:37.331832Z",
     "start_time": "2022-03-19T15:18:37.319839Z"
    }
   },
   "outputs": [
    {
     "name": "stdout",
     "output_type": "stream",
     "text": [
      "Thu\n",
      "Wed\n",
      "Mon\n"
     ]
    }
   ],
   "source": [
    "class Node:\n",
    "   def __init__(self, data=None):\n",
    "      self.data = data\n",
    "      self.next = None\n",
    "class SLinkedList:\n",
    "   def __init__(self):\n",
    "      self.head = None\n",
    "\n",
    "   def Atbegining(self, data_in):\n",
    "      NewNode = Node(data_in)\n",
    "      NewNode.next = self.head\n",
    "      self.head = NewNode\n",
    "\n",
    "# Function to remove node\n",
    "   def RemoveNode(self, Removekey):\n",
    "      HeadVal = self.head\n",
    "         \n",
    "      if (HeadVal is not None):\n",
    "         if (HeadVal.data == Removekey):\n",
    "            self.head = HeadVal.next\n",
    "            HeadVal = None\n",
    "            return\n",
    "      while (HeadVal is not None):\n",
    "         if HeadVal.data == Removekey:\n",
    "            break\n",
    "         prev = HeadVal\n",
    "         HeadVal = HeadVal.next\n",
    "\n",
    "      if (HeadVal == None):\n",
    "         return\n",
    "\n",
    "      prev.next = HeadVal.next\n",
    "      HeadVal = None\n",
    "\n",
    "   def LListprint(self):\n",
    "      printval = self.head\n",
    "      while (printval):\n",
    "         print(printval.data),\n",
    "         printval = printval.next\n",
    "\n",
    "llist = SLinkedList()\n",
    "llist.Atbegining(\"Mon\")\n",
    "llist.Atbegining(\"Tue\")\n",
    "llist.Atbegining(\"Wed\")\n",
    "llist.Atbegining(\"Thu\")\n",
    "llist.RemoveNode(\"Tue\")\n",
    "llist.LListprint()"
   ]
  },
  {
   "cell_type": "code",
   "execution_count": null,
   "id": "22ebf132",
   "metadata": {},
   "outputs": [],
   "source": []
  }
 ],
 "metadata": {
  "kernelspec": {
   "display_name": "Python 3",
   "language": "python",
   "name": "python3"
  },
  "language_info": {
   "codemirror_mode": {
    "name": "ipython",
    "version": 3
   },
   "file_extension": ".py",
   "mimetype": "text/x-python",
   "name": "python",
   "nbconvert_exporter": "python",
   "pygments_lexer": "ipython3",
   "version": "3.6.13"
  },
  "varInspector": {
   "cols": {
    "lenName": 16,
    "lenType": 16,
    "lenVar": 40
   },
   "kernels_config": {
    "python": {
     "delete_cmd_postfix": "",
     "delete_cmd_prefix": "del ",
     "library": "var_list.py",
     "varRefreshCmd": "print(var_dic_list())"
    },
    "r": {
     "delete_cmd_postfix": ") ",
     "delete_cmd_prefix": "rm(",
     "library": "var_list.r",
     "varRefreshCmd": "cat(var_dic_list()) "
    }
   },
   "types_to_exclude": [
    "module",
    "function",
    "builtin_function_or_method",
    "instance",
    "_Feature"
   ],
   "window_display": false
  }
 },
 "nbformat": 4,
 "nbformat_minor": 5
}
